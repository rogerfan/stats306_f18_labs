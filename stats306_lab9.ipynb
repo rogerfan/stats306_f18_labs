{
 "cells": [
  {
   "cell_type": "code",
   "execution_count": null,
   "metadata": {
    "slideshow": {
     "slide_type": "notes"
    }
   },
   "outputs": [],
   "source": [
    "library(tidyverse)\n",
    "library(nycflights13)"
   ]
  },
  {
   "cell_type": "markdown",
   "metadata": {
    "slideshow": {
     "slide_type": "slide"
    }
   },
   "source": [
    "# Lecture 9: Functions (Lecture 14)"
   ]
  },
  {
   "cell_type": "markdown",
   "metadata": {
    "slideshow": {
     "slide_type": "-"
    }
   },
   "source": [
    "In this lecture we will learn about functions. We already have plenty of experience calling functions in order to mutate, plot, and explore data. Now we will learn how and when to write our own functions."
   ]
  },
  {
   "cell_type": "markdown",
   "metadata": {
    "slideshow": {
     "slide_type": "slide"
    }
   },
   "source": [
    "## Functions\n",
    "\n",
    "Recall that we can write functions when we find ourselves repeating the same operations multiple times."
   ]
  },
  {
   "cell_type": "code",
   "execution_count": null,
   "metadata": {
    "scrolled": true
   },
   "outputs": [],
   "source": [
    "df = tibble::tibble(\n",
    "  a = rnorm(10),\n",
    "  b = rnorm(10),\n",
    "  c = rnorm(10),\n",
    "  d = rnorm(10)\n",
    ")\n",
    "\n",
    "print(df)"
   ]
  },
  {
   "cell_type": "code",
   "execution_count": null,
   "metadata": {},
   "outputs": [],
   "source": [
    "df$a = (df$a - min(df$a, na.rm = TRUE)) / \n",
    "    (max(df$a, na.rm = TRUE) - min(df$a, na.rm = TRUE))\n",
    "df$b = (df$b - min(df$b, na.rm = TRUE)) / \n",
    "    (max(df$b, na.rm = TRUE) - min(df$b, na.rm = TRUE))\n",
    "df$c = (df$c - min(df$c, na.rm = TRUE)) / \n",
    "    (max(df$c, na.rm = TRUE) - min(df$c, na.rm = TRUE))\n",
    "df$d = (df$d - min(df$d, na.rm = TRUE)) / \n",
    "    (max(df$d, na.rm = TRUE) - min(df$d, na.rm = TRUE))\n",
    " \n",
    "print(df)"
   ]
  },
  {
   "cell_type": "code",
   "execution_count": null,
   "metadata": {},
   "outputs": [],
   "source": [
    "rescale01 = function(x) {\n",
    "    (x - min(x, na.rm = TRUE)) / (max(x, na.rm = TRUE) - min(x, na.rm = TRUE))\n",
    "}\n",
    "\n",
    "df$a = rescale01(df$a)\n",
    "df$b = rescale01(df$b)\n",
    "df$c = rescale01(df$c)\n",
    "df$d = rescale01(df$d)\n",
    "\n",
    "print(df)"
   ]
  },
  {
   "cell_type": "markdown",
   "metadata": {
    "slideshow": {
     "slide_type": "slide"
    }
   },
   "source": [
    "## Conditional execution\n",
    "Often when writing functions we need to do different things depending on what data is passed in. This is known as *conditional execution*, and is accomplished using the `if/else` construct:\n",
    "```{r}\n",
    "if (condition) {\n",
    "  # code executed when condition is TRUE\n",
    "} else {\n",
    "  # code executed when condition is FALSE\n",
    "}\n",
    "```"
   ]
  },
  {
   "cell_type": "markdown",
   "metadata": {
    "slideshow": {
     "slide_type": "slide"
    }
   },
   "source": [
    "### Example\n",
    "The *Heaviside step function* is defined as\n",
    "$$H(x)=\\begin{cases}0,&x\\le 0\\\\\n",
    "1,&\\text{otherwise}\n",
    "\\end{cases}.$$\n",
    "How can we code this as an R function?"
   ]
  },
  {
   "cell_type": "code",
   "execution_count": null,
   "metadata": {},
   "outputs": [],
   "source": [
    "H = function(x) {\n",
    "    if (x <= 0) {\n",
    "        return(0)\n",
    "    } else {\n",
    "        return(1)\n",
    "    }\n",
    "}\n",
    "H(-1)\n",
    "H(0)\n",
    "H(1)"
   ]
  },
  {
   "cell_type": "code",
   "execution_count": null,
   "metadata": {},
   "outputs": [],
   "source": [
    "H2 = function(x) {\n",
    "    ifelse(x <= 0, 0, 1)\n",
    "}\n",
    "\n",
    "H2(c(-1, 0, 1))"
   ]
  },
  {
   "cell_type": "markdown",
   "metadata": {
    "slideshow": {
     "slide_type": "slide"
    }
   },
   "source": [
    "### Multiple conditions\n",
    "Sometimes you will want to check multiple conditions using an `if` statement. For example, let's define the function $$\\operatorname{sgn}(x) = \\begin{cases}-1,&x<0\\\\0,&x=0\\\\1,&x>0.\\end{cases}$$"
   ]
  },
  {
   "cell_type": "code",
   "execution_count": null,
   "metadata": {
    "collapsed": true
   },
   "outputs": [],
   "source": [
    "sgn = function(x) {\n",
    "    # code\n",
    "}"
   ]
  },
  {
   "cell_type": "markdown",
   "metadata": {
    "slideshow": {
     "slide_type": "slide"
    }
   },
   "source": [
    "The general form is\n",
    "```{r}\n",
    "if (this) {\n",
    "  # do that\n",
    "} else if (that) {\n",
    "  # do something else\n",
    "} else {\n",
    "  # \n",
    "}\n",
    "```"
   ]
  },
  {
   "cell_type": "markdown",
   "metadata": {
    "slideshow": {
     "slide_type": "slide"
    }
   },
   "source": [
    "If you find yourself chaining together a long string of `if/else if/else if/else if/.../else` statements, chances are there is an easier way. For example, say we have a continuous variable `temp` that we want to convert to a factor. One way is using lots of `if/else`:\n",
    "```{r}\n",
    "if (temp <= 0) {\n",
    "  \"freezing\"\n",
    "} else if (temp <= 10) {\n",
    "  \"cold\"\n",
    "} else if (temp <= 20) {\n",
    "  \"cool\"\n",
    "} else if (temp <= 30) {\n",
    "  \"warm\"\n",
    "} else {\n",
    "  \"hot\"\n",
    "}\n",
    "```"
   ]
  },
  {
   "cell_type": "markdown",
   "metadata": {
    "slideshow": {
     "slide_type": "slide"
    }
   },
   "source": [
    "Alternatively, we could use the `cut` function:"
   ]
  },
  {
   "cell_type": "code",
   "execution_count": null,
   "metadata": {},
   "outputs": [],
   "source": [
    "cut(10, c(-Inf, 0, 10, 20, 30, Inf), c('freezing', 'cold', 'cool', 'warm', 'hot'))"
   ]
  },
  {
   "cell_type": "markdown",
   "metadata": {
    "slideshow": {
     "slide_type": "slide"
    }
   },
   "source": [
    "### Brackets\n",
    "Both `function` and `if` are usually called using the curly bracket delimiters `{` and `}`. For one-line statements, the brackets are optional:"
   ]
  },
  {
   "cell_type": "code",
   "execution_count": null,
   "metadata": {},
   "outputs": [],
   "source": [
    "if (TRUE) { \n",
    "    print(\"A1\") \n",
    "} else { \n",
    "    print(\"B\") \n",
    "}\n",
    "if (TRUE) print(\"A2\") else print(\"B\")"
   ]
  },
  {
   "cell_type": "markdown",
   "metadata": {
    "slideshow": {
     "slide_type": "notes"
    }
   },
   "source": [
    "You should almost always use the curly braces. One exception is for very brief, unnamed functions. We'll see some examples of this next week when we study map/reduce computations."
   ]
  },
  {
   "cell_type": "markdown",
   "metadata": {
    "slideshow": {
     "slide_type": "slide"
    }
   },
   "source": [
    "## Function arguments\n",
    "Functions can take multiple arguments. Generally they fall into one of two categories:\n",
    "* *Data* to be processed by the function, and\n",
    "* *Options*, which affect how the data gets processed."
   ]
  },
  {
   "cell_type": "markdown",
   "metadata": {
    "slideshow": {
     "slide_type": "slide"
    }
   },
   "source": [
    "```{r}\n",
    "mean(x, na.rm=TRUE)\n",
    "log(x, base=y)\n",
    "str_c(..., sep=\" \")\n",
    "```\n",
    "What is/are the data? What are the options?"
   ]
  },
  {
   "cell_type": "markdown",
   "metadata": {
    "slideshow": {
     "slide_type": "slide"
    }
   },
   "source": [
    "### Rules for function arguments\n",
    "Generally:\n",
    "1. The *data* parameters should come first; and\n",
    "2. The *options* should come second, and have sensible defaults."
   ]
  },
  {
   "cell_type": "markdown",
   "metadata": {
    "slideshow": {
     "slide_type": "slide"
    }
   },
   "source": [
    "Default parameter values are specified by the `option=default` notation:"
   ]
  },
  {
   "cell_type": "code",
   "execution_count": null,
   "metadata": {
    "collapsed": true
   },
   "outputs": [],
   "source": [
    "mean_ci = function(x, conf=0.95) {\n",
    "  se = sd(x) / sqrt(length(x))\n",
    "  alpha = 1 - conf\n",
    "  mean(x) + se * qnorm(c(alpha / 2, 1 - alpha / 2))\n",
    "}"
   ]
  },
  {
   "cell_type": "markdown",
   "metadata": {
    "slideshow": {
     "slide_type": "slide"
    }
   },
   "source": [
    "When you call a function, you can omit the values of the default arguments. If overriding the default, you should specify the parameter you are overriding and then input the overridden value with an ` = ` in between:\n",
    "```{r}\n",
    "mean_ci(c(1, 2, 3, 4))              # uses default value\n",
    "mean_ci(c(1, 2, 3, 4), conf = .99)  # ok\n",
    "mean_ci(c(1, 2, 3, 4), conf=.99)    # ok\n",
    "mean_ci(c(1, 2, 3, 4), .99)         # dangerous\n",
    "```"
   ]
  },
  {
   "cell_type": "markdown",
   "metadata": {
    "slideshow": {
     "slide_type": "slide"
    }
   },
   "source": [
    "### Validation\n",
    "When writing functions it's a good idea to *validate* the input -- that is, make sure it matches your assumptions about what is being passed to the function. Consider the following function which returns the weighted average of a vector:"
   ]
  },
  {
   "cell_type": "code",
   "execution_count": null,
   "metadata": {
    "collapsed": true
   },
   "outputs": [],
   "source": [
    "w_mean = function(x, w) {\n",
    "    (x * w) / sum(w)\n",
    "}"
   ]
  },
  {
   "cell_type": "markdown",
   "metadata": {
    "slideshow": {
     "slide_type": "slide"
    }
   },
   "source": [
    "This function relies implicitly on the fact that the weight vector `w` is the same length as the input vector `x`. If it's not, you'll get a warning and unexpected behavior."
   ]
  },
  {
   "cell_type": "code",
   "execution_count": null,
   "metadata": {},
   "outputs": [],
   "source": [
    "w_mean(c(1,2,3), w=c(1, 2))"
   ]
  },
  {
   "cell_type": "markdown",
   "metadata": {
    "slideshow": {
     "slide_type": "slide"
    }
   },
   "source": [
    "It's best to make the assumption of equal length explicit by checking it:"
   ]
  },
  {
   "cell_type": "code",
   "execution_count": null,
   "metadata": {
    "collapsed": true
   },
   "outputs": [],
   "source": [
    "w_mean = function(x, w) {\n",
    "    stopifnot(length(w) == length(x))\n",
    "    (x * w) / sum(w)\n",
    "}"
   ]
  },
  {
   "cell_type": "markdown",
   "metadata": {
    "slideshow": {
     "slide_type": "slide"
    }
   },
   "source": [
    "Now:"
   ]
  },
  {
   "cell_type": "code",
   "execution_count": null,
   "metadata": {},
   "outputs": [],
   "source": [
    "w_mean(c(1,2,3), w=c(1, 2))"
   ]
  },
  {
   "cell_type": "markdown",
   "metadata": {
    "slideshow": {
     "slide_type": "slide"
    }
   },
   "source": [
    "Adding comments is another good way to make sure that you don't encounter unexpected situations in your functions:"
   ]
  },
  {
   "cell_type": "code",
   "execution_count": null,
   "metadata": {
    "collapsed": true
   },
   "outputs": [],
   "source": [
    "w_mean = function(x, w) {\n",
    "    # Return the average of `x` weighted by weight vector `w`\n",
    "    stopifnot(length(w) == length(x))\n",
    "    (x * w) / sum(w)\n",
    "}"
   ]
  },
  {
   "cell_type": "markdown",
   "metadata": {
    "slideshow": {
     "slide_type": "slide"
    }
   },
   "source": [
    "###  Dot-dot-dot (`…`)\n",
    "Some functions are designed to take a variable number of inputs. We saw this for example with the `str_c` function:"
   ]
  },
  {
   "cell_type": "code",
   "execution_count": null,
   "metadata": {},
   "outputs": [],
   "source": [
    "stringr::str_c(\"a\", \"b\")\n",
    "stringr::str_c(\"a\", \"b\", \"c\", \"d\")"
   ]
  },
  {
   "cell_type": "markdown",
   "metadata": {
    "slideshow": {
     "slide_type": "slide"
    }
   },
   "source": [
    "To construct a function that takes a variable number of arguments we use the `...` notation:\n",
    "```{r}\n",
    "f = function(...) {\n",
    "    <do something with variable arguments>\n",
    "}\n",
    "```"
   ]
  },
  {
   "cell_type": "markdown",
   "metadata": {
    "slideshow": {
     "slide_type": "slide"
    }
   },
   "source": [
    "One thing you can do with the `...` is pass it to another function:"
   ]
  },
  {
   "cell_type": "code",
   "execution_count": null,
   "metadata": {},
   "outputs": [],
   "source": [
    "commas <- function(...) stringr::str_c(..., collapse = \", \")\n",
    "commas(letters[1:10])"
   ]
  },
  {
   "cell_type": "markdown",
   "metadata": {
    "slideshow": {
     "slide_type": "slide"
    }
   },
   "source": [
    "You can also access individual arguments in `...` using the `list(...)` notation. We'll learn more about lists in the next lecture."
   ]
  },
  {
   "cell_type": "markdown",
   "metadata": {
    "slideshow": {
     "slide_type": "slide"
    }
   },
   "source": [
    "## Return values\n",
    "Thus far we have relied on the default behavior of R, which is to return the last value in the function:"
   ]
  },
  {
   "cell_type": "code",
   "execution_count": null,
   "metadata": {
    "collapsed": true
   },
   "outputs": [],
   "source": [
    "f = function() {\n",
    "    1\n",
    "    2\n",
    "    3  # this will be returned\n",
    "}\n",
    "f()"
   ]
  },
  {
   "cell_type": "markdown",
   "metadata": {
    "slideshow": {
     "slide_type": "slide"
    }
   },
   "source": [
    "In more complicated functions you'll need to manually return values using the `return()` function:\n",
    "```{r}\n",
    "complicated_function <- function(x, y, z) {\n",
    "  if (length(x) == 0 || length(y) == 0) {\n",
    "      return(0)  # this immediately returns and halts the function.\n",
    "  }\n",
    "  # Complicated code here\n",
    "}\n",
    "```"
   ]
  },
  {
   "cell_type": "markdown",
   "metadata": {
    "slideshow": {
     "slide_type": "slide"
    }
   },
   "source": [
    "### Pipeable functions\n",
    "We've seen a lot of uses of the pipe operator `%>%`. As you become more advanced, you may find it useful to create your own functions which can be used in data pipelines. "
   ]
  },
  {
   "cell_type": "markdown",
   "metadata": {
    "slideshow": {
     "slide_type": "slide"
    }
   },
   "source": [
    "#### Transformations\n",
    "For pipeable functions that transform a data frame, simply return the altered version of the data frame. For example:"
   ]
  },
  {
   "cell_type": "code",
   "execution_count": null,
   "metadata": {
    "collapsed": true
   },
   "outputs": [],
   "source": [
    "first_row <- function(df) {\n",
    "    df %>% slice(1)\n",
    "}\n",
    "tibble(x=c(1,2,3), y=c(\"a\",\"b\",\"c\")) %>% first_row"
   ]
  },
  {
   "cell_type": "markdown",
   "metadata": {},
   "source": [
    "### Challenge problem\n",
    "Define a function `drop_even()` which drops all the even-numbered rows from a data frame:\n",
    "```{r}\n",
    "> tibble(x=c(1,2,3), y=c(\"a\",\"b\",\"c\")) %>% drop_even\n",
    "# A tibble: 2 x 2\n",
    "      x y    \n",
    "  <int> <chr>\n",
    "1     1 a    \n",
    "2     3 c    \n",
    "```"
   ]
  },
  {
   "cell_type": "code",
   "execution_count": null,
   "metadata": {
    "collapsed": true,
    "slideshow": {
     "slide_type": "-"
    }
   },
   "outputs": [],
   "source": [
    "drop_even = function(df) {\n",
    "    # drop all the even-numbered observations\n",
    "}"
   ]
  },
  {
   "cell_type": "markdown",
   "metadata": {
    "slideshow": {
     "slide_type": "slide"
    }
   },
   "source": [
    "#### Side effects\n",
    "Some functions have *side effects* but don't modify the original data frame. For example, consider the following function which counts how many missing values are present in a data frame:"
   ]
  },
  {
   "cell_type": "code",
   "execution_count": null,
   "metadata": {
    "collapsed": true
   },
   "outputs": [],
   "source": [
    "show_missings = function(df) {\n",
    "  n <- sum(is.na(df))\n",
    "  cat(\"Missing values: \", n, \"\\n\", sep = \"\")\n",
    "  df  # note return value\n",
    "}"
   ]
  },
  {
   "cell_type": "markdown",
   "metadata": {
    "slideshow": {
     "slide_type": "slide"
    }
   },
   "source": [
    "This function works but has the undesirable effect of printing the whole data frame when it returns:"
   ]
  },
  {
   "cell_type": "code",
   "execution_count": null,
   "metadata": {},
   "outputs": [],
   "source": [
    "show_missings(mpg)"
   ]
  },
  {
   "cell_type": "markdown",
   "metadata": {
    "slideshow": {
     "slide_type": "slide"
    }
   },
   "source": [
    "To correct this tidyverse has the `invisible()` function:"
   ]
  },
  {
   "cell_type": "code",
   "execution_count": null,
   "metadata": {
    "collapsed": true
   },
   "outputs": [],
   "source": [
    "show_missings = function(df) {\n",
    "  n <- sum(is.na(df))\n",
    "  cat(\"Missing values: \", n, \"\\n\", sep = \"\")\n",
    "  invisible(df)  # return will not print out\n",
    "}"
   ]
  },
  {
   "cell_type": "markdown",
   "metadata": {
    "slideshow": {
     "slide_type": "slide"
    }
   },
   "source": [
    "Now we can run the command interactively, and also use it in pipelines:"
   ]
  },
  {
   "cell_type": "code",
   "execution_count": null,
   "metadata": {
    "slideshow": {
     "slide_type": "-"
    }
   },
   "outputs": [],
   "source": [
    "show_missings(flights)"
   ]
  },
  {
   "cell_type": "code",
   "execution_count": null,
   "metadata": {},
   "outputs": [],
   "source": [
    "flights %>% filter(month < 5) %>% show_missings"
   ]
  },
  {
   "cell_type": "markdown",
   "metadata": {
    "slideshow": {
     "slide_type": "slide"
    }
   },
   "source": [
    "## Environments\n",
    "The environment is, roughly, the set of variables and data defined in your R session. The default environment is called the \"global environment\":"
   ]
  },
  {
   "cell_type": "code",
   "execution_count": null,
   "metadata": {},
   "outputs": [],
   "source": [
    "environment()"
   ]
  },
  {
   "cell_type": "markdown",
   "metadata": {
    "slideshow": {
     "slide_type": "slide"
    }
   },
   "source": [
    "A function depends on the environment in which it was defined. In particular, if you reference a variable inside of a function, which is not *defined* in that function, R will look for it in the enclosing environment."
   ]
  },
  {
   "cell_type": "code",
   "execution_count": null,
   "metadata": {},
   "outputs": [],
   "source": [
    "f = function(x) {\n",
    "    x + y\n",
    "}\n",
    "x = 1:3\n",
    "y = 3\n",
    "f(x)"
   ]
  },
  {
   "cell_type": "code",
   "execution_count": null,
   "metadata": {},
   "outputs": [],
   "source": [
    "y = 4\n",
    "f(x)"
   ]
  },
  {
   "cell_type": "code",
   "execution_count": null,
   "metadata": {},
   "outputs": [],
   "source": [
    "f = function(x) {\n",
    "    y = x\n",
    "    print(y)\n",
    "}\n",
    "\n",
    "y = 10\n",
    "f(5)\n",
    "y"
   ]
  },
  {
   "cell_type": "code",
   "execution_count": null,
   "metadata": {},
   "outputs": [],
   "source": [
    "f = function(x) {\n",
    "    y <<- x\n",
    "    print(y)\n",
    "}\n",
    "\n",
    "y = 10\n",
    "f(5)\n",
    "y"
   ]
  },
  {
   "cell_type": "markdown",
   "metadata": {
    "slideshow": {
     "slide_type": "slide"
    }
   },
   "source": [
    "### Challenge problem\n",
    "Write a function `howmany()` which prints the number of times that it has been called:\n",
    "```\n",
    "> howmany()\n",
    "[1] 1\n",
    "> howmany()\n",
    "[1] 2\n",
    "> howmany()\n",
    "[1] 3\n",
    "```\n"
   ]
  },
  {
   "cell_type": "markdown",
   "metadata": {
    "slideshow": {
     "slide_type": "slide"
    }
   },
   "source": [
    "\n",
    "Harder: write a function `same(x)` which prints \"yes!\" if `x` is the same value that was passed into `same()` on the previous call, and \"no!\" otherwise. (`same()` always prints \"no!\" to start):\n",
    "```{r}\n",
    "> same(1)\n",
    "[1] \"no!\"\n",
    "> same(1)\n",
    "[1] \"yes!\"\n",
    "> same(1)\n",
    "[1] \"yes!\"\n",
    "> same(\"hello\")\n",
    "[1] \"no!\"\n",
    "```"
   ]
  },
  {
   "cell_type": "code",
   "execution_count": null,
   "metadata": {},
   "outputs": [],
   "source": []
  },
  {
   "cell_type": "code",
   "execution_count": null,
   "metadata": {},
   "outputs": [],
   "source": []
  }
 ],
 "metadata": {
  "kernelspec": {
   "display_name": "R",
   "language": "R",
   "name": "ir"
  },
  "language_info": {
   "codemirror_mode": "r",
   "file_extension": ".r",
   "mimetype": "text/x-r-source",
   "name": "R",
   "pygments_lexer": "r",
   "version": "3.4.2"
  }
 },
 "nbformat": 4,
 "nbformat_minor": 2
}

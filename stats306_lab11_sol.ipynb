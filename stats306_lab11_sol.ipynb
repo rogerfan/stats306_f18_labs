{
 "cells": [
  {
   "cell_type": "markdown",
   "metadata": {},
   "source": [
    "# Lab 11: Misc Functions"
   ]
  },
  {
   "cell_type": "code",
   "execution_count": 18,
   "metadata": {
    "scrolled": true
   },
   "outputs": [
    {
     "name": "stderr",
     "output_type": "stream",
     "text": [
      "── Attaching packages ─────────────────────────────────────── tidyverse 1.2.1 ──\n",
      "✔ ggplot2 2.2.1     ✔ purrr   0.2.5\n",
      "✔ tibble  1.4.2     ✔ dplyr   0.7.5\n",
      "✔ tidyr   0.8.1     ✔ stringr 1.2.0\n",
      "✔ readr   1.1.1     ✔ forcats 0.3.0\n",
      "Warning message:\n",
      "“package ‘tibble’ was built under R version 3.4.3”Warning message:\n",
      "“package ‘tidyr’ was built under R version 3.4.4”Warning message:\n",
      "“package ‘purrr’ was built under R version 3.4.4”Warning message:\n",
      "“package ‘dplyr’ was built under R version 3.4.4”Warning message:\n",
      "“package ‘forcats’ was built under R version 3.4.3”── Conflicts ────────────────────────────────────────── tidyverse_conflicts() ──\n",
      "✖ dplyr::filter() masks stats::filter()\n",
      "✖ dplyr::lag()    masks stats::lag()\n",
      "Warning message:\n",
      "“package ‘nycflights13’ was built under R version 3.4.4”"
     ]
    }
   ],
   "source": [
    "library(tidyverse)\n",
    "library(nycflights13)"
   ]
  },
  {
   "cell_type": "markdown",
   "metadata": {},
   "source": [
    "## Review"
   ]
  },
  {
   "cell_type": "markdown",
   "metadata": {},
   "source": [
    "Remember that **lists** are sequences where the elements are allowed to be different data types (including vectors or even other lists). You will usually want to name your list elements."
   ]
  },
  {
   "cell_type": "code",
   "execution_count": 210,
   "metadata": {},
   "outputs": [
    {
     "name": "stdout",
     "output_type": "stream",
     "text": [
      "[1] \"a\" \"b\" \"c\" \"d\" \"e\"\n",
      "$a\n",
      "[1] \"a\"\n",
      "\n",
      "$b\n",
      "[1] FALSE\n",
      "\n",
      "$c\n",
      "[1] 1 2 3\n",
      "\n",
      "$d\n",
      "$d$first\n",
      "[1] 1 3 5\n",
      "\n",
      "$d$second\n",
      "[1] \"a\" \"b\" \"c\"\n",
      "\n",
      "\n",
      "$e\n",
      "[1] 3.141593\n",
      "\n"
     ]
    }
   ],
   "source": [
    "x = list(a='a', b=FALSE, c=1:3, d=list(first=c(1, 3, 5), second=c('a', 'b', 'c')), e=pi)\n",
    "print(names(x))\n",
    "print(x)"
   ]
  },
  {
   "cell_type": "markdown",
   "metadata": {},
   "source": [
    "There are three ways to subset or extract elements from a list:\n",
    "* `[...]` will extract a sublist. Note that the result of this will always be another list. Integer, logical, or character vectors can be used.\n",
    "* `[[...]]` will extract a single element. Either the index or name of the desired element can be provided.\n",
    "* `$a` will also extract a single element. Note that this requires a named list, and the name must be used. "
   ]
  },
  {
   "cell_type": "markdown",
   "metadata": {},
   "source": [
    "### Functional Programming\n",
    "\n",
    "Tidyverse contains a suite of functions used for functional programming in `purrr` ([documentation](https://purrr.tidyverse.org/index.html)).\n",
    "\n",
    "Functional programming is generally built on three main operations:\n",
    "* `map`\n",
    "* `keep` (usually known as `filter` in other languages)\n",
    "* `reduce`\n",
    "\n",
    "Note that `map` always returns a list, if you want a vector, then use the functions `map_lgl`, `map_int`, `map_dbl`, or `map_chr` for logicals, integers, doubles/floats, and strings, respectively."
   ]
  },
  {
   "cell_type": "code",
   "execution_count": 183,
   "metadata": {
    "scrolled": true
   },
   "outputs": [
    {
     "name": "stdout",
     "output_type": "stream",
     "text": [
      "[[1]]\n",
      "[1] 1\n",
      "\n",
      "[[2]]\n",
      "[1] 4\n",
      "\n",
      "[[3]]\n",
      "[1] 9\n",
      "\n",
      "[[4]]\n",
      "[1] 16\n",
      "\n",
      "[[5]]\n",
      "[1] 25\n",
      "\n"
     ]
    }
   ],
   "source": [
    "map(1:5, function(x) x^2) %>% print"
   ]
  },
  {
   "cell_type": "code",
   "execution_count": 188,
   "metadata": {},
   "outputs": [
    {
     "data": {
      "text/html": [
       "<ol class=list-inline>\n",
       "\t<li>1</li>\n",
       "\t<li>4</li>\n",
       "\t<li>9</li>\n",
       "\t<li>16</li>\n",
       "\t<li>25</li>\n",
       "</ol>\n"
      ],
      "text/latex": [
       "\\begin{enumerate*}\n",
       "\\item 1\n",
       "\\item 4\n",
       "\\item 9\n",
       "\\item 16\n",
       "\\item 25\n",
       "\\end{enumerate*}\n"
      ],
      "text/markdown": [
       "1. 1\n",
       "2. 4\n",
       "3. 9\n",
       "4. 16\n",
       "5. 25\n",
       "\n",
       "\n"
      ],
      "text/plain": [
       "[1]  1  4  9 16 25"
      ]
     },
     "metadata": {},
     "output_type": "display_data"
    }
   ],
   "source": [
    "map_dbl(1:5, function(x) x^2)"
   ]
  },
  {
   "cell_type": "code",
   "execution_count": 193,
   "metadata": {},
   "outputs": [
    {
     "data": {
      "text/html": [
       "<ol class=list-inline>\n",
       "\t<li>2</li>\n",
       "\t<li>4</li>\n",
       "</ol>\n"
      ],
      "text/latex": [
       "\\begin{enumerate*}\n",
       "\\item 2\n",
       "\\item 4\n",
       "\\end{enumerate*}\n"
      ],
      "text/markdown": [
       "1. 2\n",
       "2. 4\n",
       "\n",
       "\n"
      ],
      "text/plain": [
       "[1] 2 4"
      ]
     },
     "metadata": {},
     "output_type": "display_data"
    }
   ],
   "source": [
    "keep(1:5, function(x) x %% 2 == 0)"
   ]
  },
  {
   "cell_type": "code",
   "execution_count": 186,
   "metadata": {},
   "outputs": [
    {
     "data": {
      "text/html": [
       "15"
      ],
      "text/latex": [
       "15"
      ],
      "text/markdown": [
       "15"
      ],
      "text/plain": [
       "[1] 15"
      ]
     },
     "metadata": {},
     "output_type": "display_data"
    }
   ],
   "source": [
    "reduce(1:5, function(x, y) x + y)"
   ]
  },
  {
   "cell_type": "code",
   "execution_count": 187,
   "metadata": {},
   "outputs": [
    {
     "data": {
      "text/html": [
       "<ol class=list-inline>\n",
       "\t<li>1</li>\n",
       "\t<li>3</li>\n",
       "\t<li>6</li>\n",
       "\t<li>10</li>\n",
       "\t<li>15</li>\n",
       "</ol>\n"
      ],
      "text/latex": [
       "\\begin{enumerate*}\n",
       "\\item 1\n",
       "\\item 3\n",
       "\\item 6\n",
       "\\item 10\n",
       "\\item 15\n",
       "\\end{enumerate*}\n"
      ],
      "text/markdown": [
       "1. 1\n",
       "2. 3\n",
       "3. 6\n",
       "4. 10\n",
       "5. 15\n",
       "\n",
       "\n"
      ],
      "text/plain": [
       "[1]  1  3  6 10 15"
      ]
     },
     "metadata": {},
     "output_type": "display_data"
    }
   ],
   "source": [
    "accumulate(1:5, function(x, y) x + y)"
   ]
  },
  {
   "cell_type": "code",
   "execution_count": 196,
   "metadata": {},
   "outputs": [
    {
     "data": {
      "text/html": [
       "<ol class=list-inline>\n",
       "\t<li>1</li>\n",
       "\t<li>4</li>\n",
       "\t<li>9</li>\n",
       "\t<li>16</li>\n",
       "\t<li>25</li>\n",
       "</ol>\n"
      ],
      "text/latex": [
       "\\begin{enumerate*}\n",
       "\\item 1\n",
       "\\item 4\n",
       "\\item 9\n",
       "\\item 16\n",
       "\\item 25\n",
       "\\end{enumerate*}\n"
      ],
      "text/markdown": [
       "1. 1\n",
       "2. 4\n",
       "3. 9\n",
       "4. 16\n",
       "5. 25\n",
       "\n",
       "\n"
      ],
      "text/plain": [
       "[1]  1  4  9 16 25"
      ]
     },
     "metadata": {},
     "output_type": "display_data"
    },
    {
     "data": {
      "text/html": [
       "<ol class=list-inline>\n",
       "\t<li>2</li>\n",
       "\t<li>4</li>\n",
       "</ol>\n"
      ],
      "text/latex": [
       "\\begin{enumerate*}\n",
       "\\item 2\n",
       "\\item 4\n",
       "\\end{enumerate*}\n"
      ],
      "text/markdown": [
       "1. 2\n",
       "2. 4\n",
       "\n",
       "\n"
      ],
      "text/plain": [
       "[1] 2 4"
      ]
     },
     "metadata": {},
     "output_type": "display_data"
    },
    {
     "data": {
      "text/html": [
       "15"
      ],
      "text/latex": [
       "15"
      ],
      "text/markdown": [
       "15"
      ],
      "text/plain": [
       "[1] 15"
      ]
     },
     "metadata": {},
     "output_type": "display_data"
    }
   ],
   "source": [
    "map_dbl(1:5, ~ .^2)\n",
    "keep(1:5, ~ . %% 2 == 0)\n",
    "reduce(1:5, ~ .x + .y)"
   ]
  },
  {
   "cell_type": "markdown",
   "metadata": {},
   "source": [
    "Remember that dataframes are also lists where each element is a vector (i.e. a column of the data), so when applied to dataframes these will apply to each column of the data."
   ]
  },
  {
   "cell_type": "code",
   "execution_count": 198,
   "metadata": {
    "scrolled": true
   },
   "outputs": [
    {
     "name": "stdout",
     "output_type": "stream",
     "text": [
      "    mpg    disp      hp    qsec \n",
      " 642.90 7383.10 4694.00  571.16 \n"
     ]
    }
   ],
   "source": [
    "mtcars %>% map_dbl(sum) %>% keep(~ . > 200) %>% print"
   ]
  },
  {
   "cell_type": "markdown",
   "metadata": {},
   "source": [
    "## Q1: Working with logicals\n",
    "\n",
    "### 1.1\n",
    "\n",
    "Given a logical vector, consider a function that returns `TRUE` if every element is `TRUE`, and returns `FALSE` if any element is `FALSE`. Have this function ignore missing values (don't worry about empty vectors or vectors will all missing values).\n",
    "\n",
    "Write the function `all_iter` which uses iteration/loops to perform this calculation.\n",
    "\n",
    "Write the function `all_func` which uses functional programming tools."
   ]
  },
  {
   "cell_type": "code",
   "execution_count": 30,
   "metadata": {},
   "outputs": [],
   "source": [
    "all_iter = function(x) {\n",
    "    for (val in x) {\n",
    "        if (!is.na(val)) {\n",
    "            if (!val) {\n",
    "                return(FALSE)\n",
    "            }\n",
    "        }\n",
    "    }\n",
    "    return(TRUE)\n",
    "}"
   ]
  },
  {
   "cell_type": "code",
   "execution_count": 31,
   "metadata": {},
   "outputs": [],
   "source": [
    "all_func = function(x) {\n",
    "    x %>% keep(~!is.na(.)) %>% reduce(`&`)\n",
    "}"
   ]
  },
  {
   "cell_type": "code",
   "execution_count": 32,
   "metadata": {},
   "outputs": [],
   "source": [
    "stopifnot(all_iter(c(TRUE, TRUE, TRUE)))\n",
    "stopifnot(!all_iter(c(TRUE, TRUE, FALSE)))\n",
    "stopifnot(!all_iter(c(FALSE, FALSE, FALSE)))\n",
    "stopifnot(all_iter(c(TRUE, TRUE, NA)))\n",
    "stopifnot(!all_iter(c(TRUE, FALSE, NA)))\n",
    "stopifnot(all_iter(c(NA, TRUE, NA)))\n",
    "\n",
    "stopifnot(all_func(c(TRUE, TRUE, TRUE)))\n",
    "stopifnot(!all_func(c(TRUE, TRUE, FALSE)))\n",
    "stopifnot(!all_func(c(FALSE, FALSE, FALSE)))\n",
    "stopifnot(all_func(c(TRUE, TRUE, NA)))\n",
    "stopifnot(!all_func(c(TRUE, FALSE, NA)))\n",
    "stopifnot(all_func(c(NA, TRUE, NA)))"
   ]
  },
  {
   "cell_type": "markdown",
   "metadata": {},
   "source": [
    "### 1.2\n",
    "\n",
    "Now consider the function that does the opposite, returns `TRUE` if any of the elements are `TRUE`, and returns `FALSE` if all of the elements are `FALSE`.\n",
    "\n",
    "Write a function `any_func` that does this. Hint: this function can be written extremely simply given a correct implementation of `all_func` or `all_iter` if you think carefully about what this is doing."
   ]
  },
  {
   "cell_type": "code",
   "execution_count": 35,
   "metadata": {},
   "outputs": [],
   "source": [
    "any_func = function(x) {\n",
    "    !all_func(!x)\n",
    "}"
   ]
  },
  {
   "cell_type": "code",
   "execution_count": 36,
   "metadata": {
    "collapsed": true
   },
   "outputs": [],
   "source": [
    "stopifnot(any_func(c(TRUE, TRUE, TRUE)))\n",
    "stopifnot(any_func(c(TRUE, TRUE, FALSE)))\n",
    "stopifnot(!any_func(c(FALSE, FALSE, FALSE)))\n",
    "stopifnot(any_func(c(TRUE, TRUE, NA)))\n",
    "stopifnot(any_func(c(TRUE, FALSE, NA)))\n",
    "stopifnot(!any_func(c(FALSE, FALSE, NA)))\n",
    "stopifnot(any_func(c(NA, TRUE, NA)))"
   ]
  },
  {
   "cell_type": "markdown",
   "metadata": {},
   "source": [
    "Note that `any` and `all` are built-in `R` functions that do the same things as the above functions you wrote.\n",
    "\n",
    "### 1.3\n",
    "\n",
    "Write a function `exists_outlier` that takes a vector and checks if an outlier exists. We define an outlier to be a point that is more than 2.5x the standard deviation away from the mean."
   ]
  },
  {
   "cell_type": "code",
   "execution_count": 50,
   "metadata": {},
   "outputs": [],
   "source": [
    "exists_outlier = function(x) {\n",
    "    any(abs(x - mean(x)) > 2.5*sd(x))\n",
    "}"
   ]
  },
  {
   "cell_type": "code",
   "execution_count": 51,
   "metadata": {},
   "outputs": [],
   "source": [
    "stopifnot(!exists_outlier(c(1, 2, 3, 4, 5)))\n",
    "stopifnot(exists_outlier(c(rep(1, 20), 5)))"
   ]
  },
  {
   "cell_type": "markdown",
   "metadata": {},
   "source": [
    "### 1.4\n",
    "\n",
    "The following code creates a dataframe `dat`. Write a one-liner using `exists_outlier` that prints the variable names of `dat` that contain an outlier."
   ]
  },
  {
   "cell_type": "code",
   "execution_count": 78,
   "metadata": {},
   "outputs": [],
   "source": [
    "set.seed(123515)\n",
    "dat = data.frame(X1=rnorm(30))\n",
    "for (varn in 2:20) {\n",
    "    dat[[paste0('X', varn)]] = rnorm(30)\n",
    "}"
   ]
  },
  {
   "cell_type": "code",
   "execution_count": 79,
   "metadata": {},
   "outputs": [
    {
     "name": "stdout",
     "output_type": "stream",
     "text": [
      "[1] \"X1\"  \"X2\"  \"X5\"  \"X14\" \"X17\"\n"
     ]
    }
   ],
   "source": [
    "names(dat)[map_lgl(dat, exists_outlier)] %>% print"
   ]
  },
  {
   "cell_type": "markdown",
   "metadata": {},
   "source": [
    "## Q2: Max and Argmax\n",
    "\n",
    "### 2.1\n",
    "\n",
    "Define the function `max_iter` that takes a vector and returns the maximum element using iteration/loops.\n",
    "\n",
    "Define the function `max_func` that does the same thing using `reduce`. Note: don't use the `max` function, instead define your own function that goes into the reduce."
   ]
  },
  {
   "cell_type": "code",
   "execution_count": 211,
   "metadata": {},
   "outputs": [],
   "source": [
    "max_iter = function(x) {\n",
    "    curr = x[1]\n",
    "    \n",
    "    for (i in 2:length(x)) {\n",
    "        if (x[i] > curr) {\n",
    "            curr = x[i]\n",
    "        }\n",
    "    }\n",
    "    curr\n",
    "}\n"
   ]
  },
  {
   "cell_type": "code",
   "execution_count": 212,
   "metadata": {
    "collapsed": true
   },
   "outputs": [],
   "source": [
    "reduce_max = function(curr, newval) {\n",
    "    if (newval > curr) {\n",
    "        return(newval)\n",
    "    } else {\n",
    "        return(curr)\n",
    "    }\n",
    "}\n",
    "\n",
    "max_func = function(x) {\n",
    "    reduce(x, reduce_max)\n",
    "}"
   ]
  },
  {
   "cell_type": "code",
   "execution_count": 213,
   "metadata": {},
   "outputs": [],
   "source": [
    "test = rnorm(100)\n",
    "stopifnot(max_iter(test) == max(test))\n",
    "stopifnot(max_func(test) == max(test))"
   ]
  },
  {
   "cell_type": "markdown",
   "metadata": {},
   "source": [
    "### 2.2\n",
    "\n",
    "Define the function `argmax_iter` that takes a vector and returns the index maximum element using iteration/loops. If there is a tie return the index of the first time the max appears. Hint: you may need to keep track of multiple things as you iterate.\n",
    "\n",
    "(Difficult) Define the function `argmax_func` that does the same thing using reduce. Hint: how can you keep track of multiple things through the reduce steps?\n"
   ]
  },
  {
   "cell_type": "code",
   "execution_count": 214,
   "metadata": {
    "collapsed": true
   },
   "outputs": [],
   "source": [
    "argmax_iter = function(x) {\n",
    "    curr_val = x[1]\n",
    "    curr_arg = 1\n",
    "    \n",
    "    for (i in 2:length(x)) {\n",
    "        if (x[i] > curr_val) {\n",
    "            curr_val = x[i]\n",
    "            curr_arg = i\n",
    "        }\n",
    "    }\n",
    "    curr_arg\n",
    "}"
   ]
  },
  {
   "cell_type": "code",
   "execution_count": 215,
   "metadata": {},
   "outputs": [],
   "source": [
    "reduce_argmax = function(curr, newval) {\n",
    "    if (newval > curr$val) {\n",
    "        return(list(val=newval, arg=curr$i+1, i=curr$i+1))\n",
    "    } else {\n",
    "        return(list(val=curr$val, arg=curr$arg, i=curr$i+1))\n",
    "    }\n",
    "}\n",
    "\n",
    "argmax_func = function(x) {\n",
    "    res = reduce(x, reduce_argmax, .init=list(val=-Inf, arg=0, i=0))\n",
    "    res$arg\n",
    "}"
   ]
  },
  {
   "cell_type": "code",
   "execution_count": 216,
   "metadata": {
    "collapsed": true
   },
   "outputs": [],
   "source": [
    "test = rnorm(100)\n",
    "stopifnot(argmax_iter(c(1, -3, 2, 6, 3)) == 4)\n",
    "stopifnot(argmax_iter(test) == which.max(test))\n",
    "stopifnot(argmax_func(c(1, -3, 2, 6, 3)) == 4)\n",
    "stopifnot(argmax_func(test) == which.max(test))"
   ]
  }
 ],
 "metadata": {
  "kernelspec": {
   "display_name": "R",
   "language": "R",
   "name": "ir"
  },
  "language_info": {
   "codemirror_mode": "r",
   "file_extension": ".r",
   "mimetype": "text/x-r-source",
   "name": "R",
   "pygments_lexer": "r",
   "version": "3.4.2"
  }
 },
 "nbformat": 4,
 "nbformat_minor": 2
}

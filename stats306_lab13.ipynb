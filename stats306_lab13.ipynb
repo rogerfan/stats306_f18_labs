{
 "cells": [
  {
   "cell_type": "markdown",
   "metadata": {},
   "source": [
    "# Lab 13: Misc Practice"
   ]
  },
  {
   "cell_type": "code",
   "execution_count": 92,
   "metadata": {
    "collapsed": true,
    "scrolled": false
   },
   "outputs": [],
   "source": [
    "options(repr.plot.width=6, repr.plot.height=4)\n",
    "\n",
    "library(tidyverse)\n",
    "library(stringr)\n",
    "library(tidytext)\n",
    "library(lubridate)\n",
    "library(nycflights13)\n",
    "library(scales)"
   ]
  },
  {
   "cell_type": "markdown",
   "metadata": {},
   "source": [
    "## Q1: Working with logicals\n",
    "\n",
    "### 1.1\n",
    "\n",
    "Given a logical vector, consider a function that returns `TRUE` if every element is `TRUE`, and returns `FALSE` if any element is `FALSE`. Have this function ignore missing values (don't worry about empty vectors or vectors will all missing values).\n",
    "\n",
    "Write the function `all_iter` which uses iteration/loops to perform this calculation.\n",
    "\n",
    "Write the function `all_func` which uses functional programming tools."
   ]
  },
  {
   "cell_type": "code",
   "execution_count": 30,
   "metadata": {
    "collapsed": true
   },
   "outputs": [],
   "source": [
    "all_iter = function(x) {\n",
    "    \n",
    "}"
   ]
  },
  {
   "cell_type": "code",
   "execution_count": 31,
   "metadata": {
    "collapsed": true
   },
   "outputs": [],
   "source": [
    "all_func = function(x) {\n",
    "\n",
    "}"
   ]
  },
  {
   "cell_type": "code",
   "execution_count": 32,
   "metadata": {
    "collapsed": true
   },
   "outputs": [],
   "source": [
    "stopifnot(all_iter(c(TRUE, TRUE, TRUE)))\n",
    "stopifnot(!all_iter(c(TRUE, TRUE, FALSE)))\n",
    "stopifnot(!all_iter(c(FALSE, FALSE, FALSE)))\n",
    "stopifnot(all_iter(c(TRUE, TRUE, NA)))\n",
    "stopifnot(!all_iter(c(TRUE, FALSE, NA)))\n",
    "stopifnot(all_iter(c(NA, TRUE, NA)))\n",
    "\n",
    "stopifnot(all_func(c(TRUE, TRUE, TRUE)))\n",
    "stopifnot(!all_func(c(TRUE, TRUE, FALSE)))\n",
    "stopifnot(!all_func(c(FALSE, FALSE, FALSE)))\n",
    "stopifnot(all_func(c(TRUE, TRUE, NA)))\n",
    "stopifnot(!all_func(c(TRUE, FALSE, NA)))\n",
    "stopifnot(all_func(c(NA, TRUE, NA)))"
   ]
  },
  {
   "cell_type": "markdown",
   "metadata": {},
   "source": [
    "### 1.2\n",
    "\n",
    "Now consider the function that does the opposite, returns `TRUE` if any of the elements are `TRUE`, and returns `FALSE` if all of the elements are `FALSE`.\n",
    "\n",
    "Write a function `any_func` that does this. Hint: this function can be written extremely simply given a correct implementation of `all_func` or `all_iter` if you think carefully about what this is doing."
   ]
  },
  {
   "cell_type": "code",
   "execution_count": 35,
   "metadata": {
    "collapsed": true
   },
   "outputs": [],
   "source": [
    "any_func = function(x) {\n",
    "\n",
    "}"
   ]
  },
  {
   "cell_type": "code",
   "execution_count": 36,
   "metadata": {
    "collapsed": true
   },
   "outputs": [],
   "source": [
    "stopifnot(any_func(c(TRUE, TRUE, TRUE)))\n",
    "stopifnot(any_func(c(TRUE, TRUE, FALSE)))\n",
    "stopifnot(!any_func(c(FALSE, FALSE, FALSE)))\n",
    "stopifnot(any_func(c(TRUE, TRUE, NA)))\n",
    "stopifnot(any_func(c(TRUE, FALSE, NA)))\n",
    "stopifnot(!any_func(c(FALSE, FALSE, NA)))\n",
    "stopifnot(any_func(c(NA, TRUE, NA)))"
   ]
  },
  {
   "cell_type": "markdown",
   "metadata": {},
   "source": [
    "Note that `any` and `all` are built-in `R` functions that do the same things as the above functions you wrote.\n",
    "\n",
    "### 1.3\n",
    "\n",
    "Write a function `exists_outlier` that takes a vector and checks if an outlier exists. We define an outlier to be a point that is more than 2.5x the standard deviation away from the mean."
   ]
  },
  {
   "cell_type": "code",
   "execution_count": 50,
   "metadata": {
    "collapsed": true
   },
   "outputs": [],
   "source": [
    "exists_outlier = function(x) {\n",
    "\n",
    "}"
   ]
  },
  {
   "cell_type": "code",
   "execution_count": 51,
   "metadata": {
    "collapsed": true
   },
   "outputs": [],
   "source": [
    "stopifnot(!exists_outlier(c(1, 2, 3, 4, 5)))\n",
    "stopifnot(exists_outlier(c(rep(1, 20), 5)))"
   ]
  },
  {
   "cell_type": "markdown",
   "metadata": {},
   "source": [
    "### 1.4\n",
    "\n",
    "The following code creates a dataframe `dat`. Write a one-liner using `exists_outlier` that prints the variable names of `dat` that contain an outlier."
   ]
  },
  {
   "cell_type": "code",
   "execution_count": 78,
   "metadata": {
    "collapsed": true
   },
   "outputs": [],
   "source": [
    "set.seed(123515)\n",
    "dat = data.frame(X1=rnorm(30))\n",
    "for (varn in 2:20) {\n",
    "    dat[[paste0('X', varn)]] = rnorm(30)\n",
    "}"
   ]
  },
  {
   "cell_type": "code",
   "execution_count": null,
   "metadata": {},
   "outputs": [],
   "source": [
    "names(dat)[   ] %>% print"
   ]
  },
  {
   "cell_type": "markdown",
   "metadata": {},
   "source": [
    "## Q2: Max and Argmax\n",
    "\n",
    "### 2.1\n",
    "\n",
    "Define the function `max_iter` that takes a vector and returns the maximum element by iterating through the elements of the vector.\n",
    "\n",
    "Define the function `max_func` that does the same thing using `reduce`. Note: don't use the `max` function, instead define your own function that goes into the reduce."
   ]
  },
  {
   "cell_type": "code",
   "execution_count": 211,
   "metadata": {
    "collapsed": true
   },
   "outputs": [],
   "source": [
    "max_iter = function(x) {\n",
    "\n",
    "}\n"
   ]
  },
  {
   "cell_type": "code",
   "execution_count": 212,
   "metadata": {
    "collapsed": true
   },
   "outputs": [],
   "source": [
    "reduce_max = function...\n",
    "\n",
    "max_func = function(x) {\n",
    "    reduce(x, reduce_max)\n",
    "}"
   ]
  },
  {
   "cell_type": "code",
   "execution_count": 213,
   "metadata": {
    "collapsed": true
   },
   "outputs": [],
   "source": [
    "test = rnorm(100)\n",
    "stopifnot(max_iter(test) == max(test))\n",
    "stopifnot(max_func(test) == max(test))"
   ]
  },
  {
   "cell_type": "markdown",
   "metadata": {},
   "source": [
    "### 2.2\n",
    "\n",
    "Define the function `argmax_iter` that takes a vector and returns the index maximum element using iteration/loops. If there is a tie return the index of the first time the max appears. Hint: you may need to keep track of multiple things as you iterate.\n",
    "\n",
    "(Difficult) Define the function `argmax_func` that does the same thing using reduce. Hint: how can you keep track of multiple things through the reduce steps?\n"
   ]
  },
  {
   "cell_type": "code",
   "execution_count": 214,
   "metadata": {
    "collapsed": true
   },
   "outputs": [],
   "source": [
    "argmax_iter = function(x) {\n",
    "    \n",
    "}"
   ]
  },
  {
   "cell_type": "code",
   "execution_count": 215,
   "metadata": {
    "collapsed": true
   },
   "outputs": [],
   "source": []
  },
  {
   "cell_type": "code",
   "execution_count": 216,
   "metadata": {
    "collapsed": true
   },
   "outputs": [],
   "source": [
    "test = rnorm(100)\n",
    "stopifnot(argmax_iter(c(1, -3, 2, 6, 3)) == 4)\n",
    "stopifnot(argmax_iter(test) == which.max(test))\n",
    "stopifnot(argmax_func(c(1, -3, 2, 6, 3)) == 4)\n",
    "stopifnot(argmax_func(test) == which.max(test))"
   ]
  },
  {
   "cell_type": "markdown",
   "metadata": {},
   "source": [
    "## Q3: News Headlines\n",
    "\n",
    "We are going to look through headlines from ABC News. The following loads the dataset we will use.\n"
   ]
  },
  {
   "cell_type": "code",
   "execution_count": 105,
   "metadata": {},
   "outputs": [
    {
     "data": {
      "text/html": [
       "<table>\n",
       "<thead><tr><th scope=col>publish_date</th><th scope=col>headline_text</th></tr></thead>\n",
       "<tbody>\n",
       "\t<tr><td>20170101                                                        </td><td>1986 queensland cabinet documents released                      </td></tr>\n",
       "\t<tr><td>20170101                                                        </td><td>actor william cristopher mash chaplain dead at 84               </td></tr>\n",
       "\t<tr><td>20170101                                                        </td><td>adelaide hip hop artist dreams becoming influential in australia</td></tr>\n",
       "\t<tr><td>20170101                                                        </td><td>adelaide's new year's fireworks                                 </td></tr>\n",
       "\t<tr><td>20170101                                                        </td><td>adelaides new years fireworks                                   </td></tr>\n",
       "\t<tr><td>20170101                                                        </td><td>ambulances ferry injured to hospital istanbul nightclub attack  </td></tr>\n",
       "</tbody>\n",
       "</table>\n"
      ],
      "text/latex": [
       "\\begin{tabular}{r|ll}\n",
       " publish\\_date & headline\\_text\\\\\n",
       "\\hline\n",
       "\t 20170101                                                         & 1986 queensland cabinet documents released                      \\\\\n",
       "\t 20170101                                                         & actor william cristopher mash chaplain dead at 84               \\\\\n",
       "\t 20170101                                                         & adelaide hip hop artist dreams becoming influential in australia\\\\\n",
       "\t 20170101                                                         & adelaide's new year's fireworks                                 \\\\\n",
       "\t 20170101                                                         & adelaides new years fireworks                                   \\\\\n",
       "\t 20170101                                                         & ambulances ferry injured to hospital istanbul nightclub attack  \\\\\n",
       "\\end{tabular}\n"
      ],
      "text/markdown": [
       "\n",
       "publish_date | headline_text | \n",
       "|---|---|---|---|---|---|\n",
       "| 20170101                                                         | 1986 queensland cabinet documents released                       | \n",
       "| 20170101                                                         | actor william cristopher mash chaplain dead at 84                | \n",
       "| 20170101                                                         | adelaide hip hop artist dreams becoming influential in australia | \n",
       "| 20170101                                                         | adelaide's new year's fireworks                                  | \n",
       "| 20170101                                                         | adelaides new years fireworks                                    | \n",
       "| 20170101                                                         | ambulances ferry injured to hospital istanbul nightclub attack   | \n",
       "\n",
       "\n"
      ],
      "text/plain": [
       "  publish_date headline_text                                                   \n",
       "1 20170101     1986 queensland cabinet documents released                      \n",
       "2 20170101     actor william cristopher mash chaplain dead at 84               \n",
       "3 20170101     adelaide hip hop artist dreams becoming influential in australia\n",
       "4 20170101     adelaide's new year's fireworks                                 \n",
       "5 20170101     adelaides new years fireworks                                   \n",
       "6 20170101     ambulances ferry injured to hospital istanbul nightclub attack  "
      ]
     },
     "metadata": {},
     "output_type": "display_data"
    },
    {
     "data": {
      "text/html": [
       "<table>\n",
       "<thead><tr><th scope=col>word</th><th scope=col>score</th></tr></thead>\n",
       "<tbody>\n",
       "\t<tr><td>abandon   </td><td>-2        </td></tr>\n",
       "\t<tr><td>abandoned </td><td>-2        </td></tr>\n",
       "\t<tr><td>abandons  </td><td>-2        </td></tr>\n",
       "\t<tr><td>abducted  </td><td>-2        </td></tr>\n",
       "\t<tr><td>abduction </td><td>-2        </td></tr>\n",
       "\t<tr><td>abductions</td><td>-2        </td></tr>\n",
       "</tbody>\n",
       "</table>\n"
      ],
      "text/latex": [
       "\\begin{tabular}{r|ll}\n",
       " word & score\\\\\n",
       "\\hline\n",
       "\t abandon    & -2        \\\\\n",
       "\t abandoned  & -2        \\\\\n",
       "\t abandons   & -2        \\\\\n",
       "\t abducted   & -2        \\\\\n",
       "\t abduction  & -2        \\\\\n",
       "\t abductions & -2        \\\\\n",
       "\\end{tabular}\n"
      ],
      "text/markdown": [
       "\n",
       "word | score | \n",
       "|---|---|---|---|---|---|\n",
       "| abandon    | -2         | \n",
       "| abandoned  | -2         | \n",
       "| abandons   | -2         | \n",
       "| abducted   | -2         | \n",
       "| abduction  | -2         | \n",
       "| abductions | -2         | \n",
       "\n",
       "\n"
      ],
      "text/plain": [
       "  word       score\n",
       "1 abandon    -2   \n",
       "2 abandoned  -2   \n",
       "3 abandons   -2   \n",
       "4 abducted   -2   \n",
       "5 abduction  -2   \n",
       "6 abductions -2   "
      ]
     },
     "metadata": {},
     "output_type": "display_data"
    }
   ],
   "source": [
    "headlines = read_csv('https://raw.githubusercontent.com/rogerfan/stats306_f18_labs/master/abcnews_2017.csv', \n",
    "                     col_types=list(col_character(), col_character()))\n",
    "sents = get_sentiments(\"afinn\")\n",
    "\n",
    "head(headlines)\n",
    "head(sents)"
   ]
  },
  {
   "cell_type": "markdown",
   "metadata": {},
   "source": [
    "### 3.1\n",
    "\n",
    "Create `headlines1` in which `publish_date` is converted the appropriate date format and there is an additional `id` variable that gives each headline a unique id number."
   ]
  },
  {
   "cell_type": "code",
   "execution_count": 1,
   "metadata": {},
   "outputs": [],
   "source": [
    "headlines1 = NA"
   ]
  },
  {
   "cell_type": "markdown",
   "metadata": {},
   "source": [
    "### 3.2\n",
    "\n",
    "Using `headlines1` and the `sents` dataset we loaded (which contains sentiment scores for each word), create `headlines2`, which adds a variable called `score` that contains the sentiment score for that word. Note that the sentiment score is simply the sum of the sentiment scores for each word in the headline."
   ]
  },
  {
   "cell_type": "code",
   "execution_count": 2,
   "metadata": {},
   "outputs": [],
   "source": [
    "headlines2 = NA"
   ]
  },
  {
   "cell_type": "markdown",
   "metadata": {},
   "source": [
    "### 3.3\n",
    "\n",
    "Write a function `get_headlines` that takes a string `keyword` as an argument and returns a subset of `headlines2` with only rows where the headline contains the given `keyword`. The returned dataframe should contain an additional column titled `keyword` that contains the keyword provided to the function."
   ]
  },
  {
   "cell_type": "code",
   "execution_count": null,
   "metadata": {},
   "outputs": [],
   "source": [
    "get_headlines = function(keyword) {\n",
    "    \n",
    "}\n",
    "\n",
    "head(get_headlines('iran'))"
   ]
  },
  {
   "cell_type": "markdown",
   "metadata": {},
   "source": [
    "### 3.4\n",
    "\n",
    "Using `get_headlines`, create a dataframe `headlines4` which, for each country in `country_interest`, contains the headlines associated with that country. The result should be a single dataframe. You should be able to do this with a one-liner."
   ]
  },
  {
   "cell_type": "code",
   "execution_count": 3,
   "metadata": {},
   "outputs": [],
   "source": [
    "country_interest = c('china', 'india', 'russia', 'syria', 'indonesia',\n",
    "                     'japan', 'israel', 'iraq', 'iran', 'philippines',\n",
    "                     'united states', 'france')\n",
    "\n",
    "headlines4 = NA"
   ]
  },
  {
   "cell_type": "markdown",
   "metadata": {},
   "source": [
    "### 3.5\n",
    "\n",
    "Do whatever data management and plotting you need to replicate the following plot using `headlines4`. \n",
    "\n",
    "If you want to match the colors exactly, the colors I use for the endpoints of my scale are `muted('red')` and `muted('green')`.\n",
    "\n",
    "![plot](stats306_lab13_prob3.png)"
   ]
  },
  {
   "cell_type": "code",
   "execution_count": null,
   "metadata": {},
   "outputs": [],
   "source": []
  },
  {
   "cell_type": "markdown",
   "metadata": {},
   "source": [
    "## Q4: Regex\n",
    "\n",
    "### 4.1\n",
    "\n",
    "Write a regex pattern `pattern1` that matches phone numbers where the area code and next three digits are the same (e.g. `123-123-4567`). For this problem, only consider phone numbers in the formats `123-456-7890` and `(123) 456-7890` to be valid."
   ]
  },
  {
   "cell_type": "code",
   "execution_count": 141,
   "metadata": {
    "collapsed": true
   },
   "outputs": [],
   "source": [
    "pattern1 = ''"
   ]
  },
  {
   "cell_type": "code",
   "execution_count": null,
   "metadata": {},
   "outputs": [],
   "source": [
    "match_these = c(\n",
    "    '123-123-1754',\n",
    "    '(296) 296-4164'\n",
    ")\n",
    "\n",
    "dont_match_these = c(\n",
    "    '123-234-1754',\n",
    "    '(296) 111-4164',\n",
    "    '(975) 123 8134',\n",
    "    '123-123 1754',\n",
    "    '123 123 1754',\n",
    "    '(296)-296-4164',\n",
    "    '(296-296-4164',\n",
    "    '296)-296-4164'\n",
    ")\n",
    "\n",
    "str_view(match_these, pattern1)\n",
    "str_view(dont_match_these, pattern1)"
   ]
  },
  {
   "cell_type": "markdown",
   "metadata": {},
   "source": [
    "### 4.2\n",
    "\n",
    "Write a regex pattern `pattern2` that matches all the valid email addresses in `match_these` but none of the invalid ones in `dont_match_these`."
   ]
  },
  {
   "cell_type": "code",
   "execution_count": 145,
   "metadata": {
    "collapsed": true
   },
   "outputs": [],
   "source": [
    "pattern2 = ''"
   ]
  },
  {
   "cell_type": "code",
   "execution_count": null,
   "metadata": {},
   "outputs": [],
   "source": [
    "match_these = c(\n",
    "    'firstname.lastname@domain.com',\n",
    "    'email@subdomain.domain.com',\n",
    "    'firstname+lastname@domain.com',\n",
    "    'email@123.123.123.123',\n",
    "    '1234567890@domain.com',\n",
    "    'email@domain-one.com',\n",
    "    '_______@domain.com',\n",
    "    'email@domain.name',\n",
    "    'email@domain.co.jp',\n",
    "    'firstname-lastname@domain.com'\n",
    ")\n",
    "\n",
    "dont_match_these = c(\n",
    "    'plainaddress',\n",
    "    '#@%^%#$@#$@#.com',\n",
    "    '@domain.com',\n",
    "    'Joe Smith <email@domain.com>',\n",
    "    'email.domain.com',\n",
    "    'email@domain@domain.com',\n",
    "    '.email@domain.com',\n",
    "    'email@domain.com (Joe Smith)',\n",
    "    'email@domain',\n",
    "    'email@-domain.com',\n",
    "    'email@domain..com'\n",
    ")\n",
    "\n",
    "str_view(match_these, pattern2)\n",
    "str_view(dont_match_these, pattern2)"
   ]
  },
  {
   "cell_type": "code",
   "execution_count": null,
   "metadata": {
    "collapsed": true
   },
   "outputs": [],
   "source": []
  }
 ],
 "metadata": {
  "kernelspec": {
   "display_name": "R",
   "language": "R",
   "name": "ir"
  },
  "language_info": {
   "codemirror_mode": "r",
   "file_extension": ".r",
   "mimetype": "text/x-r-source",
   "name": "R",
   "pygments_lexer": "r",
   "version": "3.4.2"
  }
 },
 "nbformat": 4,
 "nbformat_minor": 2
}

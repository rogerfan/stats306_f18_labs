{
 "cells": [
  {
   "cell_type": "markdown",
   "metadata": {},
   "source": [
    "# Lab 12: Lists, Iteration, and Functional Programming"
   ]
  },
  {
   "cell_type": "code",
   "execution_count": 1,
   "metadata": {
    "scrolled": true
   },
   "outputs": [
    {
     "name": "stderr",
     "output_type": "stream",
     "text": [
      "── Attaching packages ─────────────────────────────────────── tidyverse 1.2.1 ──\n",
      "✔ ggplot2 2.2.1     ✔ purrr   0.2.5\n",
      "✔ tibble  1.4.2     ✔ dplyr   0.7.5\n",
      "✔ tidyr   0.8.1     ✔ stringr 1.2.0\n",
      "✔ readr   1.1.1     ✔ forcats 0.3.0\n",
      "Warning message:\n",
      "“package ‘tibble’ was built under R version 3.4.3”Warning message:\n",
      "“package ‘tidyr’ was built under R version 3.4.4”Warning message:\n",
      "“package ‘purrr’ was built under R version 3.4.4”Warning message:\n",
      "“package ‘dplyr’ was built under R version 3.4.4”Warning message:\n",
      "“package ‘forcats’ was built under R version 3.4.3”── Conflicts ────────────────────────────────────────── tidyverse_conflicts() ──\n",
      "✖ dplyr::filter() masks stats::filter()\n",
      "✖ dplyr::lag()    masks stats::lag()\n",
      "Warning message:\n",
      "“package ‘nycflights13’ was built under R version 3.4.4”"
     ]
    }
   ],
   "source": [
    "library(tidyverse)\n",
    "library(nycflights13)"
   ]
  },
  {
   "cell_type": "markdown",
   "metadata": {},
   "source": [
    "## Vectors and Lists\n",
    "\n",
    "**Vectors** are sequences of objects, all of which have the same type. Recall that we can assign these with the `c()` operator:\n",
    "```\n",
    "x = c(1, 2, 3, 4)\n",
    "x = 1:4\n",
    "x = c('a', 'b', 'c')\n",
    "\n",
    "\n",
    "```\n",
    "\n",
    "We can also name the entries in a vector either while assigning or by using the `names()` function:\n",
    "```\n",
    "x = c(a=1, b=2, c=3)\n",
    "\n",
    "x = c(1, 2, 3)\n",
    "names(x) = c('a', 'b', 'c')\n",
    "```\n"
   ]
  },
  {
   "cell_type": "markdown",
   "metadata": {},
   "source": [
    "**Lists** are also sequences, but the elements of a list are allowed to be different data types (including vectors or even other lists). Like with vectors, list elements can be named."
   ]
  },
  {
   "cell_type": "code",
   "execution_count": 52,
   "metadata": {},
   "outputs": [
    {
     "name": "stdout",
     "output_type": "stream",
     "text": [
      "$a\n",
      "[1] \"a\"\n",
      "\n",
      "$b\n",
      "[1] FALSE\n",
      "\n",
      "$c\n",
      "[1] 3.141593\n",
      "\n",
      "$d\n",
      "[1] 1 2 3\n",
      "\n",
      "[1] \"a\" \"b\" \"c\" \"d\"\n"
     ]
    }
   ],
   "source": [
    "x = list(a='a', b=FALSE, c=pi, d=1:3)\n",
    "print(x)\n",
    "print(names(x))"
   ]
  },
  {
   "cell_type": "markdown",
   "metadata": {},
   "source": [
    "There are three ways to subset or extract elements from a list:\n",
    "* `[...]` will extract a sublist. Note that the result of this will always be another list. Integer, logical, or character vectors can be used.\n",
    "* `[[...]]` will extract a single element. Either the index or name of the desired element can be provided.\n",
    "* `$a` will also extract a single element. Note that this requires a named list, and the name must be used. "
   ]
  },
  {
   "cell_type": "code",
   "execution_count": 44,
   "metadata": {},
   "outputs": [
    {
     "name": "stdout",
     "output_type": "stream",
     "text": [
      "$a\n",
      "[1] \"a\"\n",
      "\n",
      "$b\n",
      "[1] FALSE\n",
      "\n"
     ]
    }
   ],
   "source": [
    "print(x[1:2])"
   ]
  },
  {
   "cell_type": "code",
   "execution_count": 49,
   "metadata": {},
   "outputs": [
    {
     "name": "stdout",
     "output_type": "stream",
     "text": [
      "$a\n",
      "[1] \"a\"\n",
      "\n"
     ]
    }
   ],
   "source": [
    "print(x['a'])"
   ]
  },
  {
   "cell_type": "code",
   "execution_count": 48,
   "metadata": {},
   "outputs": [
    {
     "name": "stdout",
     "output_type": "stream",
     "text": [
      "[1] \"a\"\n"
     ]
    }
   ],
   "source": [
    "print(x[['a']])"
   ]
  },
  {
   "cell_type": "code",
   "execution_count": 51,
   "metadata": {},
   "outputs": [
    {
     "name": "stdout",
     "output_type": "stream",
     "text": [
      "[1] \"a\"\n"
     ]
    }
   ],
   "source": [
    "print(x$a)"
   ]
  },
  {
   "cell_type": "markdown",
   "metadata": {},
   "source": [
    "Note that dataframes (and tibbles) are basically just lists with some extra features. Here the `names()` correspond to columns, where each element is a vector."
   ]
  },
  {
   "cell_type": "markdown",
   "metadata": {},
   "source": [
    "## Iteration\n",
    "\n",
    "The two main ways of iterating in R are `for` and `while` loops.\n",
    "\n",
    "```\n",
    "for (index in vector) {\n",
    "    [do something for each index]\n",
    "}\n",
    "```\n",
    "\n",
    "```\n",
    "while (condition) {\n",
    "    [do something]\n",
    "}\n",
    "```\n",
    "\n",
    "Note that when using a `while` loop it will keep running as long as the condition is `TRUE`, so you want to make sure that eventually whatever you do in the loop will make the condition become `FALSE`.\n"
   ]
  },
  {
   "cell_type": "markdown",
   "metadata": {},
   "source": [
    "## Functional Programming\n",
    "\n",
    "Tidyverse contains a suite of functions used for functional programming in `purrr` ([documentation](https://purrr.tidyverse.org/index.html)).\n",
    "\n",
    "Functional programming is generally built on three main operations:\n",
    "* `map`\n",
    "* `keep` (usually known as `filter` in other languages)\n",
    "* `reduce`\n",
    "\n",
    "Note that `map` always returns a list, if you want a vector, then use the functions `map_lgl`, `map_int`, `map_dbl`, or `map_chr` for logicals, integers, doubles/floats, and strings, respectively."
   ]
  },
  {
   "cell_type": "code",
   "execution_count": 183,
   "metadata": {},
   "outputs": [
    {
     "name": "stdout",
     "output_type": "stream",
     "text": [
      "[[1]]\n",
      "[1] 1\n",
      "\n",
      "[[2]]\n",
      "[1] 4\n",
      "\n",
      "[[3]]\n",
      "[1] 9\n",
      "\n",
      "[[4]]\n",
      "[1] 16\n",
      "\n",
      "[[5]]\n",
      "[1] 25\n",
      "\n"
     ]
    }
   ],
   "source": [
    "map(1:5, function(x) x^2) %>% print"
   ]
  },
  {
   "cell_type": "code",
   "execution_count": 188,
   "metadata": {},
   "outputs": [
    {
     "data": {
      "text/html": [
       "<ol class=list-inline>\n",
       "\t<li>1</li>\n",
       "\t<li>4</li>\n",
       "\t<li>9</li>\n",
       "\t<li>16</li>\n",
       "\t<li>25</li>\n",
       "</ol>\n"
      ],
      "text/latex": [
       "\\begin{enumerate*}\n",
       "\\item 1\n",
       "\\item 4\n",
       "\\item 9\n",
       "\\item 16\n",
       "\\item 25\n",
       "\\end{enumerate*}\n"
      ],
      "text/markdown": [
       "1. 1\n",
       "2. 4\n",
       "3. 9\n",
       "4. 16\n",
       "5. 25\n",
       "\n",
       "\n"
      ],
      "text/plain": [
       "[1]  1  4  9 16 25"
      ]
     },
     "metadata": {},
     "output_type": "display_data"
    }
   ],
   "source": [
    "map_dbl(1:5, function(x) x^2)"
   ]
  },
  {
   "cell_type": "code",
   "execution_count": 193,
   "metadata": {},
   "outputs": [
    {
     "data": {
      "text/html": [
       "<ol class=list-inline>\n",
       "\t<li>2</li>\n",
       "\t<li>4</li>\n",
       "</ol>\n"
      ],
      "text/latex": [
       "\\begin{enumerate*}\n",
       "\\item 2\n",
       "\\item 4\n",
       "\\end{enumerate*}\n"
      ],
      "text/markdown": [
       "1. 2\n",
       "2. 4\n",
       "\n",
       "\n"
      ],
      "text/plain": [
       "[1] 2 4"
      ]
     },
     "metadata": {},
     "output_type": "display_data"
    }
   ],
   "source": [
    "keep(1:5, function(x) x %% 2 == 0)"
   ]
  },
  {
   "cell_type": "code",
   "execution_count": 186,
   "metadata": {},
   "outputs": [
    {
     "data": {
      "text/html": [
       "15"
      ],
      "text/latex": [
       "15"
      ],
      "text/markdown": [
       "15"
      ],
      "text/plain": [
       "[1] 15"
      ]
     },
     "metadata": {},
     "output_type": "display_data"
    }
   ],
   "source": [
    "reduce(1:5, function(x, y) x + y)"
   ]
  },
  {
   "cell_type": "code",
   "execution_count": 187,
   "metadata": {},
   "outputs": [
    {
     "data": {
      "text/html": [
       "<ol class=list-inline>\n",
       "\t<li>1</li>\n",
       "\t<li>3</li>\n",
       "\t<li>6</li>\n",
       "\t<li>10</li>\n",
       "\t<li>15</li>\n",
       "</ol>\n"
      ],
      "text/latex": [
       "\\begin{enumerate*}\n",
       "\\item 1\n",
       "\\item 3\n",
       "\\item 6\n",
       "\\item 10\n",
       "\\item 15\n",
       "\\end{enumerate*}\n"
      ],
      "text/markdown": [
       "1. 1\n",
       "2. 3\n",
       "3. 6\n",
       "4. 10\n",
       "5. 15\n",
       "\n",
       "\n"
      ],
      "text/plain": [
       "[1]  1  3  6 10 15"
      ]
     },
     "metadata": {},
     "output_type": "display_data"
    }
   ],
   "source": [
    "accumulate(1:5, function(x, y) x + y)"
   ]
  },
  {
   "cell_type": "code",
   "execution_count": 196,
   "metadata": {},
   "outputs": [
    {
     "data": {
      "text/html": [
       "<ol class=list-inline>\n",
       "\t<li>1</li>\n",
       "\t<li>4</li>\n",
       "\t<li>9</li>\n",
       "\t<li>16</li>\n",
       "\t<li>25</li>\n",
       "</ol>\n"
      ],
      "text/latex": [
       "\\begin{enumerate*}\n",
       "\\item 1\n",
       "\\item 4\n",
       "\\item 9\n",
       "\\item 16\n",
       "\\item 25\n",
       "\\end{enumerate*}\n"
      ],
      "text/markdown": [
       "1. 1\n",
       "2. 4\n",
       "3. 9\n",
       "4. 16\n",
       "5. 25\n",
       "\n",
       "\n"
      ],
      "text/plain": [
       "[1]  1  4  9 16 25"
      ]
     },
     "metadata": {},
     "output_type": "display_data"
    },
    {
     "data": {
      "text/html": [
       "<ol class=list-inline>\n",
       "\t<li>2</li>\n",
       "\t<li>4</li>\n",
       "</ol>\n"
      ],
      "text/latex": [
       "\\begin{enumerate*}\n",
       "\\item 2\n",
       "\\item 4\n",
       "\\end{enumerate*}\n"
      ],
      "text/markdown": [
       "1. 2\n",
       "2. 4\n",
       "\n",
       "\n"
      ],
      "text/plain": [
       "[1] 2 4"
      ]
     },
     "metadata": {},
     "output_type": "display_data"
    },
    {
     "data": {
      "text/html": [
       "15"
      ],
      "text/latex": [
       "15"
      ],
      "text/markdown": [
       "15"
      ],
      "text/plain": [
       "[1] 15"
      ]
     },
     "metadata": {},
     "output_type": "display_data"
    }
   ],
   "source": [
    "map_dbl(1:5, ~ .^2)\n",
    "keep(1:5, ~ . %% 2 == 0)\n",
    "reduce(1:5, ~ .x + .y)"
   ]
  },
  {
   "cell_type": "markdown",
   "metadata": {},
   "source": [
    "Remember that dataframes are also lists where each element is a vector (i.e. a column of the data), so when applied to dataframes these will apply to each column of the data."
   ]
  },
  {
   "cell_type": "code",
   "execution_count": 198,
   "metadata": {},
   "outputs": [
    {
     "name": "stdout",
     "output_type": "stream",
     "text": [
      "    mpg    disp      hp    qsec \n",
      " 642.90 7383.10 4694.00  571.16 \n"
     ]
    }
   ],
   "source": [
    "mtcars %>% map_dbl(sum) %>% keep(~ . > 200) %>% print"
   ]
  },
  {
   "cell_type": "markdown",
   "metadata": {},
   "source": [
    "## Memoization\n",
    "\n",
    "Memoization is a technique for speeding up computation (especially when used with recursion) where we store the result to arguments we've already seen. Consider a recursive solution to calculating the Fibonacci sequence:"
   ]
  },
  {
   "cell_type": "code",
   "execution_count": 161,
   "metadata": {},
   "outputs": [
    {
     "data": {
      "text/html": [
       "55"
      ],
      "text/latex": [
       "55"
      ],
      "text/markdown": [
       "55"
      ],
      "text/plain": [
       "[1] 55"
      ]
     },
     "metadata": {},
     "output_type": "display_data"
    }
   ],
   "source": [
    "fib = function(n) {\n",
    "    if (n == 1) return(1)\n",
    "    if (n == 2) return(1)\n",
    "    \n",
    "    return(fib(n-1) + fib(n-2))\n",
    "}\n",
    "fib(10)"
   ]
  },
  {
   "cell_type": "markdown",
   "metadata": {},
   "source": [
    "Note all the repeated calculation that happens when we call this function. Is there a way to not do all this repetition?"
   ]
  },
  {
   "cell_type": "code",
   "execution_count": 165,
   "metadata": {},
   "outputs": [
    {
     "data": {
      "text/html": [
       "55"
      ],
      "text/latex": [
       "55"
      ],
      "text/markdown": [
       "55"
      ],
      "text/plain": [
       "[1] 55"
      ]
     },
     "metadata": {},
     "output_type": "display_data"
    }
   ],
   "source": [
    "memostor_fib = rep(NA, 1000) # Only works for n <= 1000\n",
    "fibmemo = function(n) {\n",
    "    if (n == 1) return(1)\n",
    "    if (n == 2) return(1)\n",
    "    if (is.na(memostor_fib[n])) {\n",
    "        memostor_fib[n] <<- fibmemo(n-1) + fibmemo(n-2)\n",
    "    }\n",
    "    return(memostor_fib[n])\n",
    "}\n",
    "fibmemo(10)"
   ]
  },
  {
   "cell_type": "code",
   "execution_count": 160,
   "metadata": {},
   "outputs": [
    {
     "name": "stdout",
     "output_type": "stream",
     "text": [
      "Unit: microseconds\n",
      "        expr      min       lq       mean    median       uq      max neval cld\n",
      "     fib(20) 5001.906 5150.373 5483.25065 5402.2395 5590.400 7020.209   100   b\n",
      " fibmemo(20)    0.531    0.809    3.35476    1.5885    6.372    9.740   100  a \n"
     ]
    }
   ],
   "source": [
    "library(microbenchmark)\n",
    "microbenchmark(\n",
    "    fib(20),\n",
    "    fibmemo(20), unit='us'\n",
    ") %>% print"
   ]
  },
  {
   "cell_type": "markdown",
   "metadata": {},
   "source": [
    "## Q1: Given a vector `x`, write a function that calculates the sum of the squared odd entries.\n",
    "\n",
    "For example:\n",
    "```\n",
    "f(c(1, 2, 3, 4, 5) == 1^2 + 3^2 + 5^2 == 35\n",
    "f(c(2, 4, 6)) == 0\n",
    "```\n",
    "\n",
    "Do this using loops and if statements in `f_loop`, and using functional programming tools (`map`, `reduce`, `keep`) in `f_func`."
   ]
  },
  {
   "cell_type": "code",
   "execution_count": 123,
   "metadata": {
    "collapsed": true
   },
   "outputs": [],
   "source": [
    "f_loop = function(x) {\n",
    "\n",
    "}"
   ]
  },
  {
   "cell_type": "code",
   "execution_count": 199,
   "metadata": {
    "collapsed": true
   },
   "outputs": [],
   "source": [
    "f_func = function(x) {\n",
    "\n",
    "}"
   ]
  },
  {
   "cell_type": "code",
   "execution_count": 122,
   "metadata": {
    "collapsed": true
   },
   "outputs": [],
   "source": [
    "stopifnot(f_loop(c(1, 2, 3, 4, 5)) == 35)\n",
    "stopifnot(f_func(c(1, 2, 3, 4, 5)) == 35)\n",
    "\n",
    "stopifnot(f_loop(c(2, 4, 6)) == 0)\n",
    "stopifnot(f_func(c(2, 4, 6)) == 0)"
   ]
  },
  {
   "cell_type": "markdown",
   "metadata": {},
   "source": [
    "## Q2: Use a loop to do the following, storing the result in a vector.\n",
    "\n",
    "1. Compute the mean of every column in `airquality` ignoring missing values.\n",
    "2. Compute the number of unique values in each column of `iris`."
   ]
  },
  {
   "cell_type": "code",
   "execution_count": 1,
   "metadata": {},
   "outputs": [],
   "source": [
    "# Q2.1\n"
   ]
  },
  {
   "cell_type": "code",
   "execution_count": 2,
   "metadata": {},
   "outputs": [],
   "source": [
    "# Q2.2\n"
   ]
  },
  {
   "cell_type": "markdown",
   "metadata": {},
   "source": [
    "## Q3: Repeat Question 2 using functional programming instead of loops"
   ]
  },
  {
   "cell_type": "code",
   "execution_count": 4,
   "metadata": {},
   "outputs": [],
   "source": [
    "#Q3.1\n"
   ]
  },
  {
   "cell_type": "code",
   "execution_count": 3,
   "metadata": {},
   "outputs": [],
   "source": [
    "#Q3.2\n"
   ]
  },
  {
   "cell_type": "markdown",
   "metadata": {},
   "source": [
    "## Q4: Recursion and memoization\n",
    "\n",
    "Suppose Roger can climb either 1 or 2 steps at a time. Consider a function that returns how many ways Roger fan climb up `n` steps. For example, if `n=3`, then there are 3 ways: `(1, 1, 1)`, `(1, 2)`, or `(2, 1)`.\n",
    "\n",
    "Write a function that performs this calculation using recursion:"
   ]
  },
  {
   "cell_type": "code",
   "execution_count": null,
   "metadata": {},
   "outputs": [],
   "source": []
  },
  {
   "cell_type": "markdown",
   "metadata": {},
   "source": [
    "Note that if `n` is large there will be a lot of repeated calculation. Can you use memoization to speed this up?"
   ]
  },
  {
   "cell_type": "code",
   "execution_count": null,
   "metadata": {},
   "outputs": [],
   "source": []
  }
 ],
 "metadata": {
  "kernelspec": {
   "display_name": "R",
   "language": "R",
   "name": "ir"
  },
  "language_info": {
   "codemirror_mode": "r",
   "file_extension": ".r",
   "mimetype": "text/x-r-source",
   "name": "R",
   "pygments_lexer": "r",
   "version": "3.4.2"
  }
 },
 "nbformat": 4,
 "nbformat_minor": 2
}
